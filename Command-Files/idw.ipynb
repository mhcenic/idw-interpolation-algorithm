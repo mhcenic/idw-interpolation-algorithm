{
 "cells": [
  {
   "cell_type": "markdown",
   "id": "roman-lancaster",
   "metadata": {},
   "source": [
    "# Data pre-processing"
   ]
  },
  {
   "cell_type": "code",
   "execution_count": 1,
   "id": "solar-motion",
   "metadata": {},
   "outputs": [],
   "source": [
    "import glob\n",
    "import pandas as pd\n",
    "import os\n",
    "import numpy as np\n",
    "from sklearn.metrics import mean_squared_error"
   ]
  },
  {
   "cell_type": "code",
   "execution_count": 2,
   "id": "southwest-soccer",
   "metadata": {},
   "outputs": [],
   "source": [
    "ORIGINAL_DIR = \"../Original-Data\"\n",
    "ANALYSIS_DIR = \"../Analysis-Data\""
   ]
  },
  {
   "cell_type": "code",
   "execution_count": 3,
   "id": "remarkable-authorization",
   "metadata": {},
   "outputs": [],
   "source": [
    "all_files = glob.glob(os.path.join(ORIGINAL_DIR,\"*2017.csv\")) \n",
    "all_data = pd.concat((pd.read_csv(f) for f in all_files), ignore_index=True)"
   ]
  },
  {
   "cell_type": "code",
   "execution_count": 4,
   "id": "fitted-blocking",
   "metadata": {},
   "outputs": [
    {
     "data": {
      "text/html": [
       "<div>\n",
       "<style scoped>\n",
       "    .dataframe tbody tr th:only-of-type {\n",
       "        vertical-align: middle;\n",
       "    }\n",
       "\n",
       "    .dataframe tbody tr th {\n",
       "        vertical-align: top;\n",
       "    }\n",
       "\n",
       "    .dataframe thead th {\n",
       "        text-align: right;\n",
       "    }\n",
       "</style>\n",
       "<table border=\"1\" class=\"dataframe\">\n",
       "  <thead>\n",
       "    <tr style=\"text-align: right;\">\n",
       "      <th></th>\n",
       "      <th>UTC time</th>\n",
       "      <th>3_temperature</th>\n",
       "      <th>3_humidity</th>\n",
       "      <th>3_pressure</th>\n",
       "      <th>3_pm1</th>\n",
       "      <th>3_pm25</th>\n",
       "      <th>3_pm10</th>\n",
       "      <th>140_temperature</th>\n",
       "      <th>140_humidity</th>\n",
       "      <th>140_pressure</th>\n",
       "      <th>...</th>\n",
       "      <th>857_pressure</th>\n",
       "      <th>857_pm1</th>\n",
       "      <th>857_pm25</th>\n",
       "      <th>857_pm10</th>\n",
       "      <th>895_temperature</th>\n",
       "      <th>895_humidity</th>\n",
       "      <th>895_pressure</th>\n",
       "      <th>895_pm1</th>\n",
       "      <th>895_pm25</th>\n",
       "      <th>895_pm10</th>\n",
       "    </tr>\n",
       "  </thead>\n",
       "  <tbody>\n",
       "    <tr>\n",
       "      <th>0</th>\n",
       "      <td>2017-04-01T00:00:00</td>\n",
       "      <td>NaN</td>\n",
       "      <td>NaN</td>\n",
       "      <td>NaN</td>\n",
       "      <td>NaN</td>\n",
       "      <td>NaN</td>\n",
       "      <td>NaN</td>\n",
       "      <td>6.0</td>\n",
       "      <td>92.0</td>\n",
       "      <td>101906.0</td>\n",
       "      <td>...</td>\n",
       "      <td>NaN</td>\n",
       "      <td>NaN</td>\n",
       "      <td>NaN</td>\n",
       "      <td>NaN</td>\n",
       "      <td>NaN</td>\n",
       "      <td>NaN</td>\n",
       "      <td>NaN</td>\n",
       "      <td>NaN</td>\n",
       "      <td>NaN</td>\n",
       "      <td>NaN</td>\n",
       "    </tr>\n",
       "    <tr>\n",
       "      <th>1</th>\n",
       "      <td>2017-04-01T01:00:00</td>\n",
       "      <td>NaN</td>\n",
       "      <td>NaN</td>\n",
       "      <td>NaN</td>\n",
       "      <td>NaN</td>\n",
       "      <td>NaN</td>\n",
       "      <td>NaN</td>\n",
       "      <td>6.0</td>\n",
       "      <td>92.0</td>\n",
       "      <td>101869.0</td>\n",
       "      <td>...</td>\n",
       "      <td>NaN</td>\n",
       "      <td>NaN</td>\n",
       "      <td>NaN</td>\n",
       "      <td>NaN</td>\n",
       "      <td>NaN</td>\n",
       "      <td>NaN</td>\n",
       "      <td>NaN</td>\n",
       "      <td>NaN</td>\n",
       "      <td>NaN</td>\n",
       "      <td>NaN</td>\n",
       "    </tr>\n",
       "    <tr>\n",
       "      <th>2</th>\n",
       "      <td>2017-04-01T02:00:00</td>\n",
       "      <td>NaN</td>\n",
       "      <td>NaN</td>\n",
       "      <td>NaN</td>\n",
       "      <td>NaN</td>\n",
       "      <td>NaN</td>\n",
       "      <td>NaN</td>\n",
       "      <td>5.0</td>\n",
       "      <td>94.0</td>\n",
       "      <td>101837.0</td>\n",
       "      <td>...</td>\n",
       "      <td>NaN</td>\n",
       "      <td>NaN</td>\n",
       "      <td>NaN</td>\n",
       "      <td>NaN</td>\n",
       "      <td>NaN</td>\n",
       "      <td>NaN</td>\n",
       "      <td>NaN</td>\n",
       "      <td>NaN</td>\n",
       "      <td>NaN</td>\n",
       "      <td>NaN</td>\n",
       "    </tr>\n",
       "    <tr>\n",
       "      <th>3</th>\n",
       "      <td>2017-04-01T03:00:00</td>\n",
       "      <td>NaN</td>\n",
       "      <td>NaN</td>\n",
       "      <td>NaN</td>\n",
       "      <td>NaN</td>\n",
       "      <td>NaN</td>\n",
       "      <td>NaN</td>\n",
       "      <td>5.0</td>\n",
       "      <td>92.0</td>\n",
       "      <td>101834.0</td>\n",
       "      <td>...</td>\n",
       "      <td>NaN</td>\n",
       "      <td>NaN</td>\n",
       "      <td>NaN</td>\n",
       "      <td>NaN</td>\n",
       "      <td>NaN</td>\n",
       "      <td>NaN</td>\n",
       "      <td>NaN</td>\n",
       "      <td>NaN</td>\n",
       "      <td>NaN</td>\n",
       "      <td>NaN</td>\n",
       "    </tr>\n",
       "    <tr>\n",
       "      <th>4</th>\n",
       "      <td>2017-04-01T04:00:00</td>\n",
       "      <td>NaN</td>\n",
       "      <td>NaN</td>\n",
       "      <td>NaN</td>\n",
       "      <td>NaN</td>\n",
       "      <td>NaN</td>\n",
       "      <td>NaN</td>\n",
       "      <td>4.0</td>\n",
       "      <td>94.0</td>\n",
       "      <td>101832.0</td>\n",
       "      <td>...</td>\n",
       "      <td>NaN</td>\n",
       "      <td>NaN</td>\n",
       "      <td>NaN</td>\n",
       "      <td>NaN</td>\n",
       "      <td>NaN</td>\n",
       "      <td>NaN</td>\n",
       "      <td>NaN</td>\n",
       "      <td>NaN</td>\n",
       "      <td>NaN</td>\n",
       "      <td>NaN</td>\n",
       "    </tr>\n",
       "  </tbody>\n",
       "</table>\n",
       "<p>5 rows × 337 columns</p>\n",
       "</div>"
      ],
      "text/plain": [
       "              UTC time  3_temperature  3_humidity  3_pressure  3_pm1  3_pm25  \\\n",
       "0  2017-04-01T00:00:00            NaN         NaN         NaN    NaN     NaN   \n",
       "1  2017-04-01T01:00:00            NaN         NaN         NaN    NaN     NaN   \n",
       "2  2017-04-01T02:00:00            NaN         NaN         NaN    NaN     NaN   \n",
       "3  2017-04-01T03:00:00            NaN         NaN         NaN    NaN     NaN   \n",
       "4  2017-04-01T04:00:00            NaN         NaN         NaN    NaN     NaN   \n",
       "\n",
       "   3_pm10  140_temperature  140_humidity  140_pressure  ...  857_pressure  \\\n",
       "0     NaN              6.0          92.0      101906.0  ...           NaN   \n",
       "1     NaN              6.0          92.0      101869.0  ...           NaN   \n",
       "2     NaN              5.0          94.0      101837.0  ...           NaN   \n",
       "3     NaN              5.0          92.0      101834.0  ...           NaN   \n",
       "4     NaN              4.0          94.0      101832.0  ...           NaN   \n",
       "\n",
       "   857_pm1  857_pm25  857_pm10  895_temperature  895_humidity  895_pressure  \\\n",
       "0      NaN       NaN       NaN              NaN           NaN           NaN   \n",
       "1      NaN       NaN       NaN              NaN           NaN           NaN   \n",
       "2      NaN       NaN       NaN              NaN           NaN           NaN   \n",
       "3      NaN       NaN       NaN              NaN           NaN           NaN   \n",
       "4      NaN       NaN       NaN              NaN           NaN           NaN   \n",
       "\n",
       "   895_pm1  895_pm25  895_pm10  \n",
       "0      NaN       NaN       NaN  \n",
       "1      NaN       NaN       NaN  \n",
       "2      NaN       NaN       NaN  \n",
       "3      NaN       NaN       NaN  \n",
       "4      NaN       NaN       NaN  \n",
       "\n",
       "[5 rows x 337 columns]"
      ]
     },
     "execution_count": 4,
     "metadata": {},
     "output_type": "execute_result"
    }
   ],
   "source": [
    "all_data.head()"
   ]
  },
  {
   "cell_type": "code",
   "execution_count": 5,
   "id": "obvious-malawi",
   "metadata": {},
   "outputs": [
    {
     "data": {
      "text/plain": [
       "(8593, 57)"
      ]
     },
     "execution_count": 5,
     "metadata": {},
     "output_type": "execute_result"
    }
   ],
   "source": [
    "pm10_df = all_data.filter(regex='UTC time|pm10')\n",
    "pm10_df.shape"
   ]
  },
  {
   "cell_type": "code",
   "execution_count": 6,
   "id": "cooked-trail",
   "metadata": {},
   "outputs": [
    {
     "data": {
      "text/html": [
       "<div>\n",
       "<style scoped>\n",
       "    .dataframe tbody tr th:only-of-type {\n",
       "        vertical-align: middle;\n",
       "    }\n",
       "\n",
       "    .dataframe tbody tr th {\n",
       "        vertical-align: top;\n",
       "    }\n",
       "\n",
       "    .dataframe thead th {\n",
       "        text-align: right;\n",
       "    }\n",
       "</style>\n",
       "<table border=\"1\" class=\"dataframe\">\n",
       "  <thead>\n",
       "    <tr style=\"text-align: right;\">\n",
       "      <th></th>\n",
       "      <th>UTC time</th>\n",
       "      <th>3_pm10</th>\n",
       "      <th>140_pm10</th>\n",
       "      <th>142_pm10</th>\n",
       "      <th>147_pm10</th>\n",
       "      <th>169_pm10</th>\n",
       "      <th>170_pm10</th>\n",
       "      <th>171_pm10</th>\n",
       "      <th>172_pm10</th>\n",
       "      <th>173_pm10</th>\n",
       "      <th>...</th>\n",
       "      <th>225_pm10</th>\n",
       "      <th>226_pm10</th>\n",
       "      <th>227_pm10</th>\n",
       "      <th>228_pm10</th>\n",
       "      <th>263_pm10</th>\n",
       "      <th>622_pm10</th>\n",
       "      <th>713_pm10</th>\n",
       "      <th>808_pm10</th>\n",
       "      <th>857_pm10</th>\n",
       "      <th>895_pm10</th>\n",
       "    </tr>\n",
       "  </thead>\n",
       "  <tbody>\n",
       "    <tr>\n",
       "      <th>0</th>\n",
       "      <td>2017-04-01T00:00:00</td>\n",
       "      <td>NaN</td>\n",
       "      <td>104.0</td>\n",
       "      <td>NaN</td>\n",
       "      <td>94.0</td>\n",
       "      <td>71.0</td>\n",
       "      <td>82.0</td>\n",
       "      <td>86.0</td>\n",
       "      <td>90.0</td>\n",
       "      <td>79.0</td>\n",
       "      <td>...</td>\n",
       "      <td>73.0</td>\n",
       "      <td>53.0</td>\n",
       "      <td>82.0</td>\n",
       "      <td>89.0</td>\n",
       "      <td>73.0</td>\n",
       "      <td>78.0</td>\n",
       "      <td>NaN</td>\n",
       "      <td>NaN</td>\n",
       "      <td>NaN</td>\n",
       "      <td>NaN</td>\n",
       "    </tr>\n",
       "    <tr>\n",
       "      <th>1</th>\n",
       "      <td>2017-04-01T01:00:00</td>\n",
       "      <td>NaN</td>\n",
       "      <td>107.0</td>\n",
       "      <td>NaN</td>\n",
       "      <td>99.0</td>\n",
       "      <td>70.0</td>\n",
       "      <td>77.0</td>\n",
       "      <td>78.0</td>\n",
       "      <td>88.0</td>\n",
       "      <td>76.0</td>\n",
       "      <td>...</td>\n",
       "      <td>70.0</td>\n",
       "      <td>46.0</td>\n",
       "      <td>87.0</td>\n",
       "      <td>57.0</td>\n",
       "      <td>51.0</td>\n",
       "      <td>83.0</td>\n",
       "      <td>NaN</td>\n",
       "      <td>NaN</td>\n",
       "      <td>NaN</td>\n",
       "      <td>NaN</td>\n",
       "    </tr>\n",
       "    <tr>\n",
       "      <th>2</th>\n",
       "      <td>2017-04-01T02:00:00</td>\n",
       "      <td>NaN</td>\n",
       "      <td>98.0</td>\n",
       "      <td>NaN</td>\n",
       "      <td>103.0</td>\n",
       "      <td>75.0</td>\n",
       "      <td>73.0</td>\n",
       "      <td>73.0</td>\n",
       "      <td>89.0</td>\n",
       "      <td>77.0</td>\n",
       "      <td>...</td>\n",
       "      <td>66.0</td>\n",
       "      <td>35.0</td>\n",
       "      <td>85.0</td>\n",
       "      <td>50.0</td>\n",
       "      <td>47.0</td>\n",
       "      <td>91.0</td>\n",
       "      <td>NaN</td>\n",
       "      <td>NaN</td>\n",
       "      <td>NaN</td>\n",
       "      <td>NaN</td>\n",
       "    </tr>\n",
       "    <tr>\n",
       "      <th>3</th>\n",
       "      <td>2017-04-01T03:00:00</td>\n",
       "      <td>NaN</td>\n",
       "      <td>93.0</td>\n",
       "      <td>NaN</td>\n",
       "      <td>100.0</td>\n",
       "      <td>78.0</td>\n",
       "      <td>80.0</td>\n",
       "      <td>69.0</td>\n",
       "      <td>90.0</td>\n",
       "      <td>66.0</td>\n",
       "      <td>...</td>\n",
       "      <td>64.0</td>\n",
       "      <td>33.0</td>\n",
       "      <td>83.0</td>\n",
       "      <td>60.0</td>\n",
       "      <td>50.0</td>\n",
       "      <td>92.0</td>\n",
       "      <td>NaN</td>\n",
       "      <td>NaN</td>\n",
       "      <td>NaN</td>\n",
       "      <td>NaN</td>\n",
       "    </tr>\n",
       "    <tr>\n",
       "      <th>4</th>\n",
       "      <td>2017-04-01T04:00:00</td>\n",
       "      <td>NaN</td>\n",
       "      <td>89.0</td>\n",
       "      <td>NaN</td>\n",
       "      <td>101.0</td>\n",
       "      <td>71.0</td>\n",
       "      <td>87.0</td>\n",
       "      <td>69.0</td>\n",
       "      <td>90.0</td>\n",
       "      <td>69.0</td>\n",
       "      <td>...</td>\n",
       "      <td>61.0</td>\n",
       "      <td>37.0</td>\n",
       "      <td>79.0</td>\n",
       "      <td>69.0</td>\n",
       "      <td>55.0</td>\n",
       "      <td>95.0</td>\n",
       "      <td>NaN</td>\n",
       "      <td>NaN</td>\n",
       "      <td>NaN</td>\n",
       "      <td>NaN</td>\n",
       "    </tr>\n",
       "  </tbody>\n",
       "</table>\n",
       "<p>5 rows × 57 columns</p>\n",
       "</div>"
      ],
      "text/plain": [
       "              UTC time  3_pm10  140_pm10  142_pm10  147_pm10  169_pm10  \\\n",
       "0  2017-04-01T00:00:00     NaN     104.0       NaN      94.0      71.0   \n",
       "1  2017-04-01T01:00:00     NaN     107.0       NaN      99.0      70.0   \n",
       "2  2017-04-01T02:00:00     NaN      98.0       NaN     103.0      75.0   \n",
       "3  2017-04-01T03:00:00     NaN      93.0       NaN     100.0      78.0   \n",
       "4  2017-04-01T04:00:00     NaN      89.0       NaN     101.0      71.0   \n",
       "\n",
       "   170_pm10  171_pm10  172_pm10  173_pm10  ...  225_pm10  226_pm10  227_pm10  \\\n",
       "0      82.0      86.0      90.0      79.0  ...      73.0      53.0      82.0   \n",
       "1      77.0      78.0      88.0      76.0  ...      70.0      46.0      87.0   \n",
       "2      73.0      73.0      89.0      77.0  ...      66.0      35.0      85.0   \n",
       "3      80.0      69.0      90.0      66.0  ...      64.0      33.0      83.0   \n",
       "4      87.0      69.0      90.0      69.0  ...      61.0      37.0      79.0   \n",
       "\n",
       "   228_pm10  263_pm10  622_pm10  713_pm10  808_pm10  857_pm10  895_pm10  \n",
       "0      89.0      73.0      78.0       NaN       NaN       NaN       NaN  \n",
       "1      57.0      51.0      83.0       NaN       NaN       NaN       NaN  \n",
       "2      50.0      47.0      91.0       NaN       NaN       NaN       NaN  \n",
       "3      60.0      50.0      92.0       NaN       NaN       NaN       NaN  \n",
       "4      69.0      55.0      95.0       NaN       NaN       NaN       NaN  \n",
       "\n",
       "[5 rows x 57 columns]"
      ]
     },
     "execution_count": 6,
     "metadata": {},
     "output_type": "execute_result"
    }
   ],
   "source": [
    "pm10_df.head()"
   ]
  },
  {
   "cell_type": "code",
   "execution_count": 7,
   "id": "liquid-debut",
   "metadata": {},
   "outputs": [],
   "source": [
    "#According to 'Tidy data' rules\n",
    "pm10_df_with_id = pd.DataFrame(columns=['UTC time', 'pm10', 'id'])\n",
    "for col_name in pm10_df.iloc[:, 1:]:\n",
    "    df_with_id = pd.DataFrame(columns=['UTC time', 'pm10', 'id'])\n",
    "    df_with_id['UTC time'] = pm10_df['UTC time']\n",
    "    df_with_id['pm10'] = pm10_df[col_name]\n",
    "    df_with_id['id'] = col_name\n",
    "    pm10_df_with_id = pm10_df_with_id.append(df_with_id)"
   ]
  },
  {
   "cell_type": "code",
   "execution_count": 8,
   "id": "compatible-excuse",
   "metadata": {},
   "outputs": [
    {
     "data": {
      "text/plain": [
       "(481208, 3)"
      ]
     },
     "execution_count": 8,
     "metadata": {},
     "output_type": "execute_result"
    }
   ],
   "source": [
    "pm10_df_with_id.shape"
   ]
  },
  {
   "cell_type": "code",
   "execution_count": 9,
   "id": "dangerous-spine",
   "metadata": {},
   "outputs": [
    {
     "data": {
      "text/html": [
       "<div>\n",
       "<style scoped>\n",
       "    .dataframe tbody tr th:only-of-type {\n",
       "        vertical-align: middle;\n",
       "    }\n",
       "\n",
       "    .dataframe tbody tr th {\n",
       "        vertical-align: top;\n",
       "    }\n",
       "\n",
       "    .dataframe thead th {\n",
       "        text-align: right;\n",
       "    }\n",
       "</style>\n",
       "<table border=\"1\" class=\"dataframe\">\n",
       "  <thead>\n",
       "    <tr style=\"text-align: right;\">\n",
       "      <th></th>\n",
       "      <th>UTC time</th>\n",
       "      <th>pm10</th>\n",
       "      <th>id</th>\n",
       "    </tr>\n",
       "  </thead>\n",
       "  <tbody>\n",
       "    <tr>\n",
       "      <th>0</th>\n",
       "      <td>2017-04-01T00:00:00</td>\n",
       "      <td>NaN</td>\n",
       "      <td>3_pm10</td>\n",
       "    </tr>\n",
       "    <tr>\n",
       "      <th>1</th>\n",
       "      <td>2017-04-01T01:00:00</td>\n",
       "      <td>NaN</td>\n",
       "      <td>3_pm10</td>\n",
       "    </tr>\n",
       "    <tr>\n",
       "      <th>2</th>\n",
       "      <td>2017-04-01T02:00:00</td>\n",
       "      <td>NaN</td>\n",
       "      <td>3_pm10</td>\n",
       "    </tr>\n",
       "    <tr>\n",
       "      <th>3</th>\n",
       "      <td>2017-04-01T03:00:00</td>\n",
       "      <td>NaN</td>\n",
       "      <td>3_pm10</td>\n",
       "    </tr>\n",
       "    <tr>\n",
       "      <th>4</th>\n",
       "      <td>2017-04-01T04:00:00</td>\n",
       "      <td>NaN</td>\n",
       "      <td>3_pm10</td>\n",
       "    </tr>\n",
       "  </tbody>\n",
       "</table>\n",
       "</div>"
      ],
      "text/plain": [
       "              UTC time  pm10      id\n",
       "0  2017-04-01T00:00:00   NaN  3_pm10\n",
       "1  2017-04-01T01:00:00   NaN  3_pm10\n",
       "2  2017-04-01T02:00:00   NaN  3_pm10\n",
       "3  2017-04-01T03:00:00   NaN  3_pm10\n",
       "4  2017-04-01T04:00:00   NaN  3_pm10"
      ]
     },
     "execution_count": 9,
     "metadata": {},
     "output_type": "execute_result"
    }
   ],
   "source": [
    "pm10_df_with_id.head()"
   ]
  },
  {
   "cell_type": "code",
   "execution_count": 10,
   "id": "dominant-melissa",
   "metadata": {},
   "outputs": [],
   "source": [
    "pm10_df_with_id.id = pm10_df_with_id.id.str.replace('_pm10','').astype(int)"
   ]
  },
  {
   "cell_type": "code",
   "execution_count": 11,
   "id": "threaded-flood",
   "metadata": {},
   "outputs": [
    {
     "data": {
      "text/html": [
       "<div>\n",
       "<style scoped>\n",
       "    .dataframe tbody tr th:only-of-type {\n",
       "        vertical-align: middle;\n",
       "    }\n",
       "\n",
       "    .dataframe tbody tr th {\n",
       "        vertical-align: top;\n",
       "    }\n",
       "\n",
       "    .dataframe thead th {\n",
       "        text-align: right;\n",
       "    }\n",
       "</style>\n",
       "<table border=\"1\" class=\"dataframe\">\n",
       "  <thead>\n",
       "    <tr style=\"text-align: right;\">\n",
       "      <th></th>\n",
       "      <th>UTC time</th>\n",
       "      <th>pm10</th>\n",
       "      <th>id</th>\n",
       "    </tr>\n",
       "  </thead>\n",
       "  <tbody>\n",
       "    <tr>\n",
       "      <th>0</th>\n",
       "      <td>2017-04-01T00:00:00</td>\n",
       "      <td>NaN</td>\n",
       "      <td>3</td>\n",
       "    </tr>\n",
       "    <tr>\n",
       "      <th>1</th>\n",
       "      <td>2017-04-01T01:00:00</td>\n",
       "      <td>NaN</td>\n",
       "      <td>3</td>\n",
       "    </tr>\n",
       "    <tr>\n",
       "      <th>2</th>\n",
       "      <td>2017-04-01T02:00:00</td>\n",
       "      <td>NaN</td>\n",
       "      <td>3</td>\n",
       "    </tr>\n",
       "    <tr>\n",
       "      <th>3</th>\n",
       "      <td>2017-04-01T03:00:00</td>\n",
       "      <td>NaN</td>\n",
       "      <td>3</td>\n",
       "    </tr>\n",
       "    <tr>\n",
       "      <th>4</th>\n",
       "      <td>2017-04-01T04:00:00</td>\n",
       "      <td>NaN</td>\n",
       "      <td>3</td>\n",
       "    </tr>\n",
       "  </tbody>\n",
       "</table>\n",
       "</div>"
      ],
      "text/plain": [
       "              UTC time  pm10  id\n",
       "0  2017-04-01T00:00:00   NaN   3\n",
       "1  2017-04-01T01:00:00   NaN   3\n",
       "2  2017-04-01T02:00:00   NaN   3\n",
       "3  2017-04-01T03:00:00   NaN   3\n",
       "4  2017-04-01T04:00:00   NaN   3"
      ]
     },
     "execution_count": 11,
     "metadata": {},
     "output_type": "execute_result"
    }
   ],
   "source": [
    "pm10_df_with_id.head()"
   ]
  },
  {
   "cell_type": "code",
   "execution_count": 12,
   "id": "vanilla-slide",
   "metadata": {},
   "outputs": [
    {
     "data": {
      "text/html": [
       "<div>\n",
       "<style scoped>\n",
       "    .dataframe tbody tr th:only-of-type {\n",
       "        vertical-align: middle;\n",
       "    }\n",
       "\n",
       "    .dataframe tbody tr th {\n",
       "        vertical-align: top;\n",
       "    }\n",
       "\n",
       "    .dataframe thead th {\n",
       "        text-align: right;\n",
       "    }\n",
       "</style>\n",
       "<table border=\"1\" class=\"dataframe\">\n",
       "  <thead>\n",
       "    <tr style=\"text-align: right;\">\n",
       "      <th></th>\n",
       "      <th>id</th>\n",
       "      <th>latitude</th>\n",
       "      <th>longitude</th>\n",
       "    </tr>\n",
       "  </thead>\n",
       "  <tbody>\n",
       "    <tr>\n",
       "      <th>0</th>\n",
       "      <td>3</td>\n",
       "      <td>50.057748</td>\n",
       "      <td>19.961375</td>\n",
       "    </tr>\n",
       "    <tr>\n",
       "      <th>1</th>\n",
       "      <td>140</td>\n",
       "      <td>50.057747</td>\n",
       "      <td>19.961374</td>\n",
       "    </tr>\n",
       "    <tr>\n",
       "      <th>2</th>\n",
       "      <td>142</td>\n",
       "      <td>50.084816</td>\n",
       "      <td>19.878066</td>\n",
       "    </tr>\n",
       "    <tr>\n",
       "      <th>3</th>\n",
       "      <td>147</td>\n",
       "      <td>50.048924</td>\n",
       "      <td>19.962262</td>\n",
       "    </tr>\n",
       "    <tr>\n",
       "      <th>4</th>\n",
       "      <td>169</td>\n",
       "      <td>50.048699</td>\n",
       "      <td>20.101569</td>\n",
       "    </tr>\n",
       "  </tbody>\n",
       "</table>\n",
       "</div>"
      ],
      "text/plain": [
       "    id   latitude  longitude\n",
       "0    3  50.057748  19.961375\n",
       "1  140  50.057747  19.961374\n",
       "2  142  50.084816  19.878066\n",
       "3  147  50.048924  19.962262\n",
       "4  169  50.048699  20.101569"
      ]
     },
     "execution_count": 12,
     "metadata": {},
     "output_type": "execute_result"
    }
   ],
   "source": [
    "sensors = pd.read_csv(f\"{ORIGINAL_DIR}/sensor_locations.csv\")\n",
    "sensors.head()"
   ]
  },
  {
   "cell_type": "code",
   "execution_count": 13,
   "id": "certified-priest",
   "metadata": {},
   "outputs": [],
   "source": [
    "cleaned_data = (pm10_df_with_id.merge(sensors, left_on='id', right_on='id')\n",
    "       .reindex(columns=['UTC time', 'pm10', 'id', 'latitude', 'longitude']))"
   ]
  },
  {
   "cell_type": "code",
   "execution_count": 14,
   "id": "computational-professor",
   "metadata": {},
   "outputs": [
    {
     "data": {
      "text/html": [
       "<div>\n",
       "<style scoped>\n",
       "    .dataframe tbody tr th:only-of-type {\n",
       "        vertical-align: middle;\n",
       "    }\n",
       "\n",
       "    .dataframe tbody tr th {\n",
       "        vertical-align: top;\n",
       "    }\n",
       "\n",
       "    .dataframe thead th {\n",
       "        text-align: right;\n",
       "    }\n",
       "</style>\n",
       "<table border=\"1\" class=\"dataframe\">\n",
       "  <thead>\n",
       "    <tr style=\"text-align: right;\">\n",
       "      <th></th>\n",
       "      <th>UTC time</th>\n",
       "      <th>pm10</th>\n",
       "      <th>id</th>\n",
       "      <th>latitude</th>\n",
       "      <th>longitude</th>\n",
       "    </tr>\n",
       "  </thead>\n",
       "  <tbody>\n",
       "    <tr>\n",
       "      <th>0</th>\n",
       "      <td>2017-04-01T00:00:00</td>\n",
       "      <td>NaN</td>\n",
       "      <td>3</td>\n",
       "      <td>50.057748</td>\n",
       "      <td>19.961375</td>\n",
       "    </tr>\n",
       "    <tr>\n",
       "      <th>1</th>\n",
       "      <td>2017-04-01T01:00:00</td>\n",
       "      <td>NaN</td>\n",
       "      <td>3</td>\n",
       "      <td>50.057748</td>\n",
       "      <td>19.961375</td>\n",
       "    </tr>\n",
       "    <tr>\n",
       "      <th>2</th>\n",
       "      <td>2017-04-01T02:00:00</td>\n",
       "      <td>NaN</td>\n",
       "      <td>3</td>\n",
       "      <td>50.057748</td>\n",
       "      <td>19.961375</td>\n",
       "    </tr>\n",
       "    <tr>\n",
       "      <th>3</th>\n",
       "      <td>2017-04-01T03:00:00</td>\n",
       "      <td>NaN</td>\n",
       "      <td>3</td>\n",
       "      <td>50.057748</td>\n",
       "      <td>19.961375</td>\n",
       "    </tr>\n",
       "    <tr>\n",
       "      <th>4</th>\n",
       "      <td>2017-04-01T04:00:00</td>\n",
       "      <td>NaN</td>\n",
       "      <td>3</td>\n",
       "      <td>50.057748</td>\n",
       "      <td>19.961375</td>\n",
       "    </tr>\n",
       "  </tbody>\n",
       "</table>\n",
       "</div>"
      ],
      "text/plain": [
       "              UTC time  pm10  id   latitude  longitude\n",
       "0  2017-04-01T00:00:00   NaN   3  50.057748  19.961375\n",
       "1  2017-04-01T01:00:00   NaN   3  50.057748  19.961375\n",
       "2  2017-04-01T02:00:00   NaN   3  50.057748  19.961375\n",
       "3  2017-04-01T03:00:00   NaN   3  50.057748  19.961375\n",
       "4  2017-04-01T04:00:00   NaN   3  50.057748  19.961375"
      ]
     },
     "execution_count": 14,
     "metadata": {},
     "output_type": "execute_result"
    }
   ],
   "source": [
    "cleaned_data.head()"
   ]
  },
  {
   "cell_type": "code",
   "execution_count": 15,
   "id": "attempted-johns",
   "metadata": {},
   "outputs": [],
   "source": [
    "#Remove unnecessary columns\n",
    "cleaned_data.drop('id', inplace=True, axis=1)"
   ]
  },
  {
   "cell_type": "code",
   "execution_count": 16,
   "id": "tested-career",
   "metadata": {},
   "outputs": [
    {
     "data": {
      "text/html": [
       "<div>\n",
       "<style scoped>\n",
       "    .dataframe tbody tr th:only-of-type {\n",
       "        vertical-align: middle;\n",
       "    }\n",
       "\n",
       "    .dataframe tbody tr th {\n",
       "        vertical-align: top;\n",
       "    }\n",
       "\n",
       "    .dataframe thead th {\n",
       "        text-align: right;\n",
       "    }\n",
       "</style>\n",
       "<table border=\"1\" class=\"dataframe\">\n",
       "  <thead>\n",
       "    <tr style=\"text-align: right;\">\n",
       "      <th></th>\n",
       "      <th>UTC time</th>\n",
       "      <th>pm10</th>\n",
       "      <th>latitude</th>\n",
       "      <th>longitude</th>\n",
       "    </tr>\n",
       "  </thead>\n",
       "  <tbody>\n",
       "    <tr>\n",
       "      <th>0</th>\n",
       "      <td>2017-04-01T00:00:00</td>\n",
       "      <td>NaN</td>\n",
       "      <td>50.057748</td>\n",
       "      <td>19.961375</td>\n",
       "    </tr>\n",
       "    <tr>\n",
       "      <th>1</th>\n",
       "      <td>2017-04-01T01:00:00</td>\n",
       "      <td>NaN</td>\n",
       "      <td>50.057748</td>\n",
       "      <td>19.961375</td>\n",
       "    </tr>\n",
       "    <tr>\n",
       "      <th>2</th>\n",
       "      <td>2017-04-01T02:00:00</td>\n",
       "      <td>NaN</td>\n",
       "      <td>50.057748</td>\n",
       "      <td>19.961375</td>\n",
       "    </tr>\n",
       "    <tr>\n",
       "      <th>3</th>\n",
       "      <td>2017-04-01T03:00:00</td>\n",
       "      <td>NaN</td>\n",
       "      <td>50.057748</td>\n",
       "      <td>19.961375</td>\n",
       "    </tr>\n",
       "    <tr>\n",
       "      <th>4</th>\n",
       "      <td>2017-04-01T04:00:00</td>\n",
       "      <td>NaN</td>\n",
       "      <td>50.057748</td>\n",
       "      <td>19.961375</td>\n",
       "    </tr>\n",
       "  </tbody>\n",
       "</table>\n",
       "</div>"
      ],
      "text/plain": [
       "              UTC time  pm10   latitude  longitude\n",
       "0  2017-04-01T00:00:00   NaN  50.057748  19.961375\n",
       "1  2017-04-01T01:00:00   NaN  50.057748  19.961375\n",
       "2  2017-04-01T02:00:00   NaN  50.057748  19.961375\n",
       "3  2017-04-01T03:00:00   NaN  50.057748  19.961375\n",
       "4  2017-04-01T04:00:00   NaN  50.057748  19.961375"
      ]
     },
     "execution_count": 16,
     "metadata": {},
     "output_type": "execute_result"
    }
   ],
   "source": [
    "cleaned_data.head()"
   ]
  },
  {
   "cell_type": "code",
   "execution_count": 17,
   "id": "moved-burning",
   "metadata": {},
   "outputs": [
    {
     "data": {
      "text/plain": [
       "92832"
      ]
     },
     "execution_count": 17,
     "metadata": {},
     "output_type": "execute_result"
    }
   ],
   "source": [
    "cleaned_data['pm10'].isnull().sum()"
   ]
  },
  {
   "cell_type": "code",
   "execution_count": 18,
   "id": "social-cocktail",
   "metadata": {},
   "outputs": [],
   "source": [
    "#Remove missing rows\n",
    "cleaned_data.dropna(subset = [\"pm10\"], inplace=True)"
   ]
  },
  {
   "cell_type": "code",
   "execution_count": 19,
   "id": "official-stopping",
   "metadata": {},
   "outputs": [
    {
     "data": {
      "text/html": [
       "<div>\n",
       "<style scoped>\n",
       "    .dataframe tbody tr th:only-of-type {\n",
       "        vertical-align: middle;\n",
       "    }\n",
       "\n",
       "    .dataframe tbody tr th {\n",
       "        vertical-align: top;\n",
       "    }\n",
       "\n",
       "    .dataframe thead th {\n",
       "        text-align: right;\n",
       "    }\n",
       "</style>\n",
       "<table border=\"1\" class=\"dataframe\">\n",
       "  <thead>\n",
       "    <tr style=\"text-align: right;\">\n",
       "      <th></th>\n",
       "      <th>datetime</th>\n",
       "      <th>pm10</th>\n",
       "      <th>latitude</th>\n",
       "      <th>longitude</th>\n",
       "    </tr>\n",
       "  </thead>\n",
       "  <tbody>\n",
       "    <tr>\n",
       "      <th>2041</th>\n",
       "      <td>2017-02-01 00:00:00</td>\n",
       "      <td>155.0</td>\n",
       "      <td>50.057748</td>\n",
       "      <td>19.961375</td>\n",
       "    </tr>\n",
       "    <tr>\n",
       "      <th>2042</th>\n",
       "      <td>2017-02-01 01:00:00</td>\n",
       "      <td>165.0</td>\n",
       "      <td>50.057748</td>\n",
       "      <td>19.961375</td>\n",
       "    </tr>\n",
       "    <tr>\n",
       "      <th>2043</th>\n",
       "      <td>2017-02-01 02:00:00</td>\n",
       "      <td>170.0</td>\n",
       "      <td>50.057748</td>\n",
       "      <td>19.961375</td>\n",
       "    </tr>\n",
       "    <tr>\n",
       "      <th>2044</th>\n",
       "      <td>2017-02-01 03:00:00</td>\n",
       "      <td>186.0</td>\n",
       "      <td>50.057748</td>\n",
       "      <td>19.961375</td>\n",
       "    </tr>\n",
       "    <tr>\n",
       "      <th>2045</th>\n",
       "      <td>2017-02-01 04:00:00</td>\n",
       "      <td>191.0</td>\n",
       "      <td>50.057748</td>\n",
       "      <td>19.961375</td>\n",
       "    </tr>\n",
       "  </tbody>\n",
       "</table>\n",
       "</div>"
      ],
      "text/plain": [
       "                datetime   pm10   latitude  longitude\n",
       "2041 2017-02-01 00:00:00  155.0  50.057748  19.961375\n",
       "2042 2017-02-01 01:00:00  165.0  50.057748  19.961375\n",
       "2043 2017-02-01 02:00:00  170.0  50.057748  19.961375\n",
       "2044 2017-02-01 03:00:00  186.0  50.057748  19.961375\n",
       "2045 2017-02-01 04:00:00  191.0  50.057748  19.961375"
      ]
     },
     "execution_count": 19,
     "metadata": {},
     "output_type": "execute_result"
    }
   ],
   "source": [
    "cleaned_data.rename(columns={'UTC time': 'datetime'}, inplace=True)\n",
    "cleaned_data.datetime = pd.to_datetime(cleaned_data.datetime)\n",
    "cleaned_data.head()"
   ]
  },
  {
   "cell_type": "code",
   "execution_count": 20,
   "id": "virgin-modem",
   "metadata": {},
   "outputs": [
    {
     "data": {
      "text/plain": [
       "(388376, 4)"
      ]
     },
     "execution_count": 20,
     "metadata": {},
     "output_type": "execute_result"
    }
   ],
   "source": [
    "cleaned_data.shape"
   ]
  },
  {
   "cell_type": "code",
   "execution_count": 21,
   "id": "eastern-going",
   "metadata": {},
   "outputs": [
    {
     "data": {
      "text/plain": [
       "2017-03-17 13:00:00    50\n",
       "2017-03-23 11:00:00    50\n",
       "2017-03-23 21:00:00    50\n",
       "2017-03-20 05:00:00    50\n",
       "2017-02-28 21:00:00    50\n",
       "                       ..\n",
       "2017-06-13 14:00:00    17\n",
       "2017-06-21 15:00:00     8\n",
       "2017-06-21 17:00:00     8\n",
       "2017-06-21 16:00:00     8\n",
       "2017-06-21 14:00:00     8\n",
       "Name: datetime, Length: 8593, dtype: int64"
      ]
     },
     "execution_count": 21,
     "metadata": {},
     "output_type": "execute_result"
    }
   ],
   "source": [
    "cleaned_data['datetime'].value_counts()"
   ]
  },
  {
   "cell_type": "markdown",
   "id": "banned-solomon",
   "metadata": {},
   "source": [
    "# Algorithm"
   ]
  },
  {
   "cell_type": "code",
   "execution_count": 22,
   "id": "social-success",
   "metadata": {},
   "outputs": [],
   "source": [
    "from photutils.utils import ShepardIDWInterpolator as idw\n",
    "from sklearn.model_selection import train_test_split\n",
    "from typing import NewType\n",
    "import matplotlib.pyplot as plt"
   ]
  },
  {
   "cell_type": "code",
   "execution_count": 23,
   "id": "level-burning",
   "metadata": {},
   "outputs": [],
   "source": [
    "def get_data(dataframe, time):\n",
    "    return dataframe.loc[dataframe.datetime == time]"
   ]
  },
  {
   "cell_type": "markdown",
   "id": "worthy-consensus",
   "metadata": {},
   "source": [
    "**Hyperparameters tuning**"
   ]
  },
  {
   "cell_type": "markdown",
   "id": "analyzed-aside",
   "metadata": {},
   "source": [
    "The Shepard interpolator has an available number of parameters that are listed in the documentation.\n",
    "\n",
    "https://photutils.readthedocs.io/en/stable/api/photutils.utils.ShepardIDWInterpolator.html\n",
    "\n",
    "**We will adjust the following parameters:**\n",
    "\n",
    "_n\\_neighbors_ -> The maximum number of nearest neighbors to use during the interpolation\n",
    "\n",
    "_power_ -> The power of the inverse distance used for the interpolation weights."
   ]
  },
  {
   "cell_type": "markdown",
   "id": "pacific-cream",
   "metadata": {},
   "source": [
    "I chose _2017-03-17 13:00:00_  because it contains the most data (50 samples)"
   ]
  },
  {
   "cell_type": "code",
   "execution_count": 24,
   "id": "bored-trauma",
   "metadata": {},
   "outputs": [],
   "source": [
    "MAX_NEIGHBORS = 15\n",
    "POWER_RANGE = np.arange(0.1, 1.0, 0.1)"
   ]
  },
  {
   "cell_type": "code",
   "execution_count": 25,
   "id": "arctic-spain",
   "metadata": {},
   "outputs": [],
   "source": [
    "selected = get_data(cleaned_data, '2017-03-17 13:00:00')"
   ]
  },
  {
   "cell_type": "code",
   "execution_count": 26,
   "id": "proved-connectivity",
   "metadata": {},
   "outputs": [],
   "source": [
    "X_train, X_test, y_train, y_test = train_test_split(selected[[\"latitude\",\"longitude\"]].values, \n",
    "                                                    selected[\"pm10\"].values, test_size=0.2, random_state=42)"
   ]
  },
  {
   "cell_type": "code",
   "execution_count": 27,
   "id": "quick-frequency",
   "metadata": {},
   "outputs": [],
   "source": [
    "# Run idw interpolator\n",
    "f = idw(X_train, y_train)"
   ]
  },
  {
   "cell_type": "code",
   "execution_count": 28,
   "id": "mobile-commander",
   "metadata": {
    "scrolled": false
   },
   "outputs": [
    {
     "data": {
      "image/png": "[encoded data removed]",
      "text/plain": [
       "<Figure size 432x288 with 1 Axes>"
      ]
     },
     "metadata": {
      "needs_background": "light"
     },
     "output_type": "display_data"
    }
   ],
   "source": [
    "for n_neighbors in range(3, MAX_NEIGHBORS):\n",
    "    power_list=[]\n",
    "    rmse_list=[]\n",
    "    for power in POWER_RANGE:\n",
    "        predictions = f(X_test, n_neighbors = n_neighbors, power = power)\n",
    "        rmse = mean_squared_error(y_test, predictions, squared = False)\n",
    "        power_list.append(power)\n",
    "        rmse_list.append(rmse)\n",
    "    plt.plot(power_list, rmse_list, label=n_neighbors)\n",
    "plt.grid()\n",
    "plt.xlabel('power')\n",
    "plt.ylabel('RMSE')\n",
    "plt.legend(title=\"n_neighbors\")\n",
    "plt.rcParams[\"figure.figsize\"] = (15,15)\n",
    "plt.show()"
   ]
  },
  {
   "cell_type": "markdown",
   "id": "facial-determination",
   "metadata": {},
   "source": [
    "We can notice that the model achieves satisfactory results for n_neighbors equal to 4 and the model is not very complex."
   ]
  },
  {
   "cell_type": "markdown",
   "id": "alien-madness",
   "metadata": {},
   "source": [
    "_We will now check which value of the power parameter will produce the best results for n_neihbors equal to 4._"
   ]
  },
  {
   "cell_type": "code",
   "execution_count": 29,
   "id": "academic-setup",
   "metadata": {
    "scrolled": false
   },
   "outputs": [
    {
     "name": "stdout",
     "output_type": "stream",
     "text": [
      "n_neighbors: 3\n",
      "power \t\t rmse\n",
      "0.1 \t\t 8.7810\n",
      "0.2 \t\t 8.7971\n",
      "0.3 \t\t 8.8130\n",
      "0.4 \t\t 8.8288\n",
      "0.5 \t\t 8.8444\n",
      "0.6 \t\t 8.8598\n",
      "0.7 \t\t 8.8750\n",
      "0.8 \t\t 8.8900\n",
      "0.9 \t\t 8.9047\n"
     ]
    },
    {
     "data": {
      "image/png": "[encoded data removed]",
      "text/plain": [
       "<Figure size 1080x1080 with 1 Axes>"
      ]
     },
     "metadata": {
      "needs_background": "light"
     },
     "output_type": "display_data"
    },
    {
     "name": "stdout",
     "output_type": "stream",
     "text": [
      "n_neighbors: 4\n",
      "power \t\t rmse\n",
      "0.1 \t\t 8.6322\n",
      "0.2 \t\t 8.6502\n",
      "0.3 \t\t 8.6684\n",
      "0.4 \t\t 8.6867\n",
      "0.5 \t\t 8.7050\n",
      "0.6 \t\t 8.7234\n",
      "0.7 \t\t 8.7418\n",
      "0.8 \t\t 8.7601\n",
      "0.9 \t\t 8.7783\n"
     ]
    },
    {
     "data": {
      "image/png": "[encoded data removed]",
      "text/plain": [
       "<Figure size 360x360 with 1 Axes>"
      ]
     },
     "metadata": {
      "needs_background": "light"
     },
     "output_type": "display_data"
    },
    {
     "name": "stdout",
     "output_type": "stream",
     "text": [
      "n_neighbors: 5\n",
      "power \t\t rmse\n",
      "0.1 \t\t 8.7331\n",
      "0.2 \t\t 8.7389\n",
      "0.3 \t\t 8.7455\n",
      "0.4 \t\t 8.7528\n",
      "0.5 \t\t 8.7607\n",
      "0.6 \t\t 8.7694\n",
      "0.7 \t\t 8.7786\n",
      "0.8 \t\t 8.7884\n",
      "0.9 \t\t 8.7988\n"
     ]
    },
    {
     "data": {
      "image/png": "[encoded data removed]",
      "text/plain": [
       "<Figure size 360x360 with 1 Axes>"
      ]
     },
     "metadata": {
      "needs_background": "light"
     },
     "output_type": "display_data"
    },
    {
     "name": "stdout",
     "output_type": "stream",
     "text": [
      "n_neighbors: 6\n",
      "power \t\t rmse\n",
      "0.1 \t\t 8.8556\n",
      "0.2 \t\t 8.8492\n",
      "0.3 \t\t 8.8443\n",
      "0.4 \t\t 8.8409\n",
      "0.5 \t\t 8.8390\n",
      "0.6 \t\t 8.8385\n",
      "0.7 \t\t 8.8393\n",
      "0.8 \t\t 8.8414\n",
      "0.9 \t\t 8.8447\n"
     ]
    },
    {
     "data": {
      "image/png": "[encoded data removed]",
      "text/plain": [
       "<Figure size 360x360 with 1 Axes>"
      ]
     },
     "metadata": {
      "needs_background": "light"
     },
     "output_type": "display_data"
    },
    {
     "name": "stdout",
     "output_type": "stream",
     "text": [
      "n_neighbors: 7\n",
      "power \t\t rmse\n",
      "0.1 \t\t 8.8060\n",
      "0.2 \t\t 8.7961\n",
      "0.3 \t\t 8.7877\n",
      "0.4 \t\t 8.7809\n",
      "0.5 \t\t 8.7756\n",
      "0.6 \t\t 8.7720\n",
      "0.7 \t\t 8.7699\n",
      "0.8 \t\t 8.7694\n",
      "0.9 \t\t 8.7703\n"
     ]
    },
    {
     "data": {
      "image/png": "[encoded data removed]",
      "text/plain": [
       "<Figure size 360x360 with 1 Axes>"
      ]
     },
     "metadata": {
      "needs_background": "light"
     },
     "output_type": "display_data"
    },
    {
     "name": "stdout",
     "output_type": "stream",
     "text": [
      "n_neighbors: 8\n",
      "power \t\t rmse\n",
      "0.1 \t\t 8.8265\n",
      "0.2 \t\t 8.8194\n",
      "0.3 \t\t 8.8132\n",
      "0.4 \t\t 8.8081\n",
      "0.5 \t\t 8.8040\n",
      "0.6 \t\t 8.8011\n",
      "0.7 \t\t 8.7994\n",
      "0.8 \t\t 8.7989\n",
      "0.9 \t\t 8.7995\n"
     ]
    },
    {
     "data": {
      "image/png": "[encoded data removed]",
      "text/plain": [
       "<Figure size 360x360 with 1 Axes>"
      ]
     },
     "metadata": {
      "needs_background": "light"
     },
     "output_type": "display_data"
    },
    {
     "name": "stdout",
     "output_type": "stream",
     "text": [
      "n_neighbors: 9\n",
      "power \t\t rmse\n",
      "0.1 \t\t 8.7941\n",
      "0.2 \t\t 8.7906\n",
      "0.3 \t\t 8.7877\n",
      "0.4 \t\t 8.7855\n",
      "0.5 \t\t 8.7840\n",
      "0.6 \t\t 8.7833\n",
      "0.7 \t\t 8.7835\n",
      "0.8 \t\t 8.7845\n",
      "0.9 \t\t 8.7865\n"
     ]
    },
    {
     "data": {
      "image/png": "[encoded data removed]",
      "text/plain": [
       "<Figure size 360x360 with 1 Axes>"
      ]
     },
     "metadata": {
      "needs_background": "light"
     },
     "output_type": "display_data"
    },
    {
     "name": "stdout",
     "output_type": "stream",
     "text": [
      "n_neighbors: 10\n",
      "power \t\t rmse\n",
      "0.1 \t\t 8.8146\n",
      "0.2 \t\t 8.8090\n",
      "0.3 \t\t 8.8040\n",
      "0.4 \t\t 8.7996\n",
      "0.5 \t\t 8.7960\n",
      "0.6 \t\t 8.7932\n",
      "0.7 \t\t 8.7913\n",
      "0.8 \t\t 8.7903\n",
      "0.9 \t\t 8.7903\n"
     ]
    },
    {
     "data": {
      "image/png": "[encoded data removed]",
      "text/plain": [
       "<Figure size 360x360 with 1 Axes>"
      ]
     },
     "metadata": {
      "needs_background": "light"
     },
     "output_type": "display_data"
    },
    {
     "name": "stdout",
     "output_type": "stream",
     "text": [
      "n_neighbors: 11\n",
      "power \t\t rmse\n",
      "0.1 \t\t 8.7741\n",
      "0.2 \t\t 8.7712\n",
      "0.3 \t\t 8.7689\n",
      "0.4 \t\t 8.7671\n",
      "0.5 \t\t 8.7661\n",
      "0.6 \t\t 8.7657\n",
      "0.7 \t\t 8.7661\n",
      "0.8 \t\t 8.7674\n",
      "0.9 \t\t 8.7695\n"
     ]
    },
    {
     "data": {
      "image/png": "[encoded data removed]",
      "text/plain": [
       "<Figure size 360x360 with 1 Axes>"
      ]
     },
     "metadata": {
      "needs_background": "light"
     },
     "output_type": "display_data"
    },
    {
     "name": "stdout",
     "output_type": "stream",
     "text": [
      "n_neighbors: 12\n",
      "power \t\t rmse\n",
      "0.1 \t\t 8.7063\n",
      "0.2 \t\t 8.7056\n",
      "0.3 \t\t 8.7055\n",
      "0.4 \t\t 8.7060\n",
      "0.5 \t\t 8.7072\n",
      "0.6 \t\t 8.7090\n",
      "0.7 \t\t 8.7116\n",
      "0.8 \t\t 8.7149\n",
      "0.9 \t\t 8.7191\n"
     ]
    },
    {
     "data": {
      "image/png": "[encoded data removed]",
      "text/plain": [
       "<Figure size 360x360 with 1 Axes>"
      ]
     },
     "metadata": {
      "needs_background": "light"
     },
     "output_type": "display_data"
    },
    {
     "name": "stdout",
     "output_type": "stream",
     "text": [
      "n_neighbors: 13\n",
      "power \t\t rmse\n",
      "0.1 \t\t 8.7206\n",
      "0.2 \t\t 8.7199\n",
      "0.3 \t\t 8.7197\n",
      "0.4 \t\t 8.7200\n",
      "0.5 \t\t 8.7209\n",
      "0.6 \t\t 8.7224\n",
      "0.7 \t\t 8.7246\n",
      "0.8 \t\t 8.7275\n",
      "0.9 \t\t 8.7311\n"
     ]
    },
    {
     "data": {
      "image/png": "[encoded data removed]",
      "text/plain": [
       "<Figure size 360x360 with 1 Axes>"
      ]
     },
     "metadata": {
      "needs_background": "light"
     },
     "output_type": "display_data"
    },
    {
     "name": "stdout",
     "output_type": "stream",
     "text": [
      "n_neighbors: 14\n",
      "power \t\t rmse\n",
      "0.1 \t\t 8.7388\n",
      "0.2 \t\t 8.7366\n",
      "0.3 \t\t 8.7351\n",
      "0.4 \t\t 8.7342\n",
      "0.5 \t\t 8.7340\n",
      "0.6 \t\t 8.7345\n",
      "0.7 \t\t 8.7358\n",
      "0.8 \t\t 8.7379\n",
      "0.9 \t\t 8.7408\n"
     ]
    },
    {
     "data": {
      "image/png": "[encoded data removed]",
      "text/plain": [
       "<Figure size 360x360 with 1 Axes>"
      ]
     },
     "metadata": {
      "needs_background": "light"
     },
     "output_type": "display_data"
    }
   ],
   "source": [
    "for n_neighbors in range(3, MAX_NEIGHBORS):\n",
    "    power_list=[]\n",
    "    rmse_list=[]\n",
    "    print(f\"n_neighbors: {n_neighbors}\")\n",
    "    print(f\"power \\t\\t rmse\")\n",
    "    for power in POWER_RANGE:\n",
    "        predictions = f(X_test, n_neighbors = n_neighbors, power = power)\n",
    "        rmse = mean_squared_error(y_test, predictions, squared = False)\n",
    "        power_list.append(power)\n",
    "        rmse_list.append(rmse)\n",
    "        print(f\"{power:.1f} \\t\\t {rmse:.4f}\")\n",
    "    plt.plot(power_list, rmse_list, label=n_neighbors)\n",
    "    plt.grid()\n",
    "    plt.xlabel('power')\n",
    "    plt.ylabel('RMSE')\n",
    "    plt.legend(title=\"n_neighbors\")\n",
    "    plt.rcParams[\"figure.figsize\"] = (5,5)\n",
    "    plt.show()"
   ]
  },
  {
   "cell_type": "markdown",
   "id": "purple-loading",
   "metadata": {},
   "source": [
    "**Summing up the best interpolation result was obtained for the n-neighbors parameters equal to 4 and for the variable power equal to 0.1.**"
   ]
  }
 ],
 "metadata": {
  "kernelspec": {
   "display_name": "Python 3",
   "language": "python",
   "name": "python3"
  },
  "language_info": {
   "codemirror_mode": {
    "name": "ipython",
    "version": 3
   },
   "file_extension": ".py",
   "mimetype": "text/x-python",
   "name": "python",
   "nbconvert_exporter": "python",
   "pygments_lexer": "ipython3",
   "version": "3.9.1"
  }
 },
 "nbformat": 4,
 "nbformat_minor": 5
}
